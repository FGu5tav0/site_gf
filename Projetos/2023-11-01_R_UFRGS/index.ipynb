{
  "cells": [
    {
      "cell_type": "raw",
      "metadata": {},
      "source": [
        "---\n",
        "title: \"R para ciência do solo\"\n",
        "author:\n",
        "  - name: Gustavo Frosi\n",
        "    email: gustavofrosi@hotmail.com\n",
        "  - name: Gustavo Pesini\n",
        "    email: pesinig37@gmail.com\n",
        "code-fold: false\n",
        "# categories: \n",
        "#   - R\n",
        "#   - UFRGS\n",
        "#   - Solos\n",
        "#   - Disciplina\n",
        "toc: true\n",
        "description: \"Disciplina de introdução à linguagem de programação R para estudos em Ciência do Solo - UFRGS\"\n",
        "image: hex_dis.png\n",
        "image-alt: \"\"\n",
        "# date: \"2023/11/01\"\n",
        "lang: pt\n",
        "about: jolla\n",
        "editor_options: \n",
        "  chunk_output_type: console\n",
        "---"
      ],
      "id": "898e5ee3"
    },
    {
      "cell_type": "markdown",
      "metadata": {},
      "source": [
        "```{css}\n",
        "#| echo: false\n",
        "p {\n",
        "  text-align: justify\n",
        "}\n",
        "```\n",
        "\n",
        "\n",
        "# Disciplina de R\n",
        "\n",
        "\n",
        "No ano de 2023, um importante passo foi dado na Pós-Graduação em Ciência do Solo da UFRGS: a criação da primeira disciplina com foco total no ensino e aprendizado da linguagem de programação R. O mais entusiasmante foi poder contribuir com todo esse processo.\n",
        "\n",
        "Por iniciativa do professor Tales Tiecher, eu, Gustavo Frosi, junto com Gustavo Pesini, realizamos a construção de uma série de aulas e exercícios práticos, com foco na manipulação de dados, análise e visualização desses dados, principalmente em estudos na Ciência do Solo. O principal objetivo da disciplina foi capacitar os alunos a desenvolverem suas próprias análises de dados utilizando os recursos da linguagem de programação R.\n",
        "\n",
        "# Cronograma\n",
        "\n",
        "Um total de 10 aulas foram produzidas (Tabela 1) e ministradas ao longo de pouco mais de um mês. O conteúdo programado começou desde a base, considerando que os alunos nunca tiveram contato com a ferramenta. Assim, iniciamos com uma ambientação, ensinando os conceitos mais básicos do funcionamento de uma linguagem de programação. Na segunda etapa, focamos na análise de dados, com procedimentos de manipulação e visualização de dados, além do uso dos principais testes estatísticos. A última etapa consistiu em uma breve explanação sobre análise multivariada e criação de relatórios com o R."
      ],
      "id": "08c9972f"
    }
  ],
  "metadata": {
    "kernelspec": {
      "name": "python3",
      "language": "python",
      "display_name": "Python 3 (ipykernel)"
    }
  },
  "nbformat": 4,
  "nbformat_minor": 5
}